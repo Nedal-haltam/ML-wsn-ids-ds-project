{
 "cells": [
  {
   "cell_type": "code",
   "execution_count": null,
   "id": "d9c2d80e",
   "metadata": {},
   "outputs": [],
   "source": [
    "import pandas as pd\n",
    "# sys.path.insert(0, 'D:\\GitHub Repos\\MLib in Python\\MLib-in-python')\n",
    "# import MLib\n",
    "import warnings\n",
    "warnings.filterwarnings(\"ignore\")\n"
   ]
  },
  {
   "cell_type": "code",
   "execution_count": null,
   "id": "7ac46bdc",
   "metadata": {},
   "outputs": [],
   "source": [
    "DFOriginal = pd.read_csv('csv-wsn-ids-ds.csv')\n",
    "OutPutLabel : str = 'Attack type'\n",
    "InputLabels : list = DFOriginal.columns.tolist()\n",
    "InputLabels.remove(OutPutLabel)\n",
    "print('Input Labels Count: ', len(InputLabels))\n",
    "InputLabels"
   ]
  },
  {
   "cell_type": "code",
   "execution_count": null,
   "id": "f0682121",
   "metadata": {},
   "outputs": [],
   "source": [
    "DFOriginal[OutPutLabel].value_counts().index.tolist()"
   ]
  },
  {
   "cell_type": "code",
   "execution_count": null,
   "id": "6756e3df",
   "metadata": {},
   "outputs": [],
   "source": [
    "DFOriginal.dtypes"
   ]
  },
  {
   "cell_type": "code",
   "execution_count": null,
   "id": "ccbf2770",
   "metadata": {},
   "outputs": [],
   "source": [
    "DFOriginal.info()"
   ]
  },
  {
   "cell_type": "code",
   "execution_count": null,
   "id": "e247d047",
   "metadata": {},
   "outputs": [],
   "source": [
    "# Display the number of missing values in each column\n",
    "DFOriginal.isnull().sum()"
   ]
  },
  {
   "cell_type": "code",
   "execution_count": null,
   "id": "bd7e9add",
   "metadata": {},
   "outputs": [],
   "source": [
    "DFOriginal.describe()"
   ]
  },
  {
   "cell_type": "code",
   "execution_count": null,
   "id": "9e4ad512",
   "metadata": {},
   "outputs": [],
   "source": [
    "# Display the number of unique values in each column\n",
    "DFOriginal.nunique()"
   ]
  },
  {
   "cell_type": "code",
   "execution_count": null,
   "id": "2f28a8e3",
   "metadata": {},
   "outputs": [],
   "source": [
    "DFOriginal.drop_duplicates(inplace=True)"
   ]
  },
  {
   "cell_type": "code",
   "execution_count": null,
   "id": "a7a193cc",
   "metadata": {},
   "outputs": [],
   "source": [
    "DFOriginal.info()"
   ]
  },
  {
   "cell_type": "code",
   "execution_count": null,
   "id": "ccc0c333",
   "metadata": {},
   "outputs": [],
   "source": [
    "DFOriginal.hist(figsize=(20, 15), bins=50, xlabelsize=8, ylabelsize=8)"
   ]
  },
  {
   "cell_type": "code",
   "execution_count": null,
   "id": "ea7078f2",
   "metadata": {},
   "outputs": [],
   "source": [
    "DFOriginal[OutPutLabel].value_counts()"
   ]
  },
  {
   "cell_type": "code",
   "execution_count": null,
   "id": "c72baedc",
   "metadata": {},
   "outputs": [],
   "source": [
    "# Display the first few rows of the dataset\n",
    "DFOriginal.head()"
   ]
  },
  {
   "cell_type": "code",
   "execution_count": null,
   "id": "cbedba60",
   "metadata": {},
   "outputs": [],
   "source": [
    "DFOriginalInputs = DFOriginal[InputLabels]\n",
    "DFOriginalOutput = DFOriginal[OutPutLabel]"
   ]
  },
  {
   "cell_type": "code",
   "execution_count": null,
   "id": "d246a9b2",
   "metadata": {},
   "outputs": [],
   "source": [
    "# print th correlation matrix with colored cells\n",
    "import seaborn as sns\n",
    "import matplotlib.pyplot as plt\n",
    "plt.figure(figsize=(12, 8))\n",
    "sns.heatmap(DFOriginalInputs.corr(), annot=True, fmt=\".1f\", cmap='coolwarm', square=True, cbar_kws={\"shrink\": .8})\n",
    "plt.title('Correlation Matrix')\n",
    "plt.show()\n"
   ]
  },
  {
   "cell_type": "code",
   "execution_count": null,
   "id": "2ef03a4a",
   "metadata": {},
   "outputs": [],
   "source": [
    "DFOriginalOutput.value_counts().plot(kind='bar')\n",
    "plt.title('Class Distribution of Attack Types')\n",
    "plt.xlabel('Attack Type')\n",
    "plt.ylabel('Frequency')\n",
    "plt.xticks(rotation=45)\n",
    "plt.show()"
   ]
  },
  {
   "cell_type": "code",
   "execution_count": null,
   "id": "c4c1833c",
   "metadata": {},
   "outputs": [],
   "source": [
    "# from sklearn.model_selection import train_test_split\n",
    "# X_train, X_test, y_train, y_test = train_test_split(DFInputs, DFOutput, test_size=0.2, stratify=DFOutput)\n",
    "from imblearn.over_sampling import SMOTE\n",
    "smote = SMOTE()\n",
    "DFSampledInputs, DFSampledOutput = smote.fit_resample(DFOriginalInputs, DFOriginalOutput)\n",
    "# merge thsamplede  inputs and outputs back into a single DataFrame\n",
    "DFSampled = pd.concat([DFSampledInputs, DFSampledOutput], axis=1)"
   ]
  },
  {
   "cell_type": "code",
   "execution_count": null,
   "id": "d7692706",
   "metadata": {},
   "outputs": [],
   "source": [
    "DFSampledOutput.value_counts().plot(kind='bar')\n",
    "plt.title('Class Distribution of Attack Types')\n",
    "plt.xlabel('Attack Type')\n",
    "plt.ylabel('Frequency')\n",
    "plt.xticks(rotation=45)\n",
    "plt.show()"
   ]
  },
  {
   "cell_type": "code",
   "execution_count": null,
   "id": "e5d9bdc7",
   "metadata": {},
   "outputs": [],
   "source": [
    "DFSampledOutput.value_counts()  "
   ]
  },
  {
   "cell_type": "code",
   "execution_count": null,
   "id": "96ef26f5",
   "metadata": {},
   "outputs": [],
   "source": [
    "# use LabelEncoder to convert the categorical target to numerical values\n",
    "def LabelEncoding(DF : pd.DataFrame) -> pd.DataFrame:\n",
    "    from sklearn.preprocessing import LabelEncoder\n",
    "    categorical_columns = OutPutLabel\n",
    "    le = LabelEncoder()\n",
    "    encoded = le.fit_transform(DF[categorical_columns])\n",
    "    encoded_df = pd.DataFrame(encoded, columns=[categorical_columns])\n",
    "    DFLE = pd.concat([DF.drop(columns=[categorical_columns]), encoded_df], axis=1) # there is a problem here, let's fix it\n",
    "    return DFLE"
   ]
  },
  {
   "cell_type": "code",
   "execution_count": null,
   "id": "e48e4595",
   "metadata": {},
   "outputs": [],
   "source": [
    "def OneHotEncoding(DF : pd.DataFrame) -> pd.DataFrame:\n",
    "    from sklearn.preprocessing import OneHotEncoder\n",
    "    categorical_columns = DF.select_dtypes(include=['object']).columns.tolist()\n",
    "    ohe = OneHotEncoder(sparse_output=False)\n",
    "    encoded = ohe.fit_transform(DF[categorical_columns])\n",
    "    encoded_df = pd.DataFrame(encoded, columns=ohe.get_feature_names_out(categorical_columns))\n",
    "    DFONE = pd.concat([DF.drop(columns=categorical_columns), encoded_df], axis=1)\n",
    "    return DFONE\n"
   ]
  },
  {
   "cell_type": "code",
   "execution_count": null,
   "id": "ff6bb625",
   "metadata": {},
   "outputs": [],
   "source": [
    "le = LabelEncoding(DFSampled)\n",
    "le.head()"
   ]
  },
  {
   "cell_type": "code",
   "execution_count": null,
   "id": "794da803",
   "metadata": {},
   "outputs": [],
   "source": [
    "ohe = OneHotEncoding(DFSampled)\n",
    "ohe.head()"
   ]
  },
  {
   "cell_type": "code",
   "execution_count": null,
   "id": "c148dc01",
   "metadata": {},
   "outputs": [],
   "source": [
    "from copy import deepcopy\n",
    "DF : pd.DataFrame = deepcopy(DFSampled)\n",
    "DF = DFSampled.copy()\n",
    "DFInputs = deepcopy(DFSampledInputs)\n",
    "DFOutput = deepcopy(DFSampledOutput)"
   ]
  },
  {
   "cell_type": "code",
   "execution_count": null,
   "id": "10f8f0e4",
   "metadata": {},
   "outputs": [],
   "source": [
    "# use MinMaxScaler to scale the data\n",
    "def MinMaxScaling(DF : pd.DataFrame) -> pd.DataFrame:\n",
    "    from sklearn.preprocessing import MinMaxScaler\n",
    "    scaler = MinMaxScaler()\n",
    "    DFarr = scaler.fit_transform(DF)\n",
    "    DFMMS = pd.DataFrame(DFarr, columns=scaler.get_feature_names_out(DF.columns.tolist()))\n",
    "    return DFMMS"
   ]
  },
  {
   "cell_type": "code",
   "execution_count": null,
   "id": "61f60474",
   "metadata": {},
   "outputs": [],
   "source": [
    "# use StandardScaler to scale the data\n",
    "def StandardScaling(DF : pd.DataFrame) -> pd.DataFrame:\n",
    "    from sklearn.preprocessing import StandardScaler\n",
    "    scaler = StandardScaler()\n",
    "    DFarr = scaler.fit_transform(DF)\n",
    "    DFSS = pd.DataFrame(DFarr, columns=scaler.get_feature_names_out(DF.columns.tolist()))\n",
    "    return DFSS"
   ]
  },
  {
   "cell_type": "code",
   "execution_count": null,
   "id": "f4713c28",
   "metadata": {},
   "outputs": [],
   "source": [
    "# use RobustScaler to scale the data\n",
    "def RobustScaling(DF : pd.DataFrame) -> pd.DataFrame:\n",
    "    from sklearn.preprocessing import RobustScaler\n",
    "    scaler = RobustScaler()\n",
    "    DFarr = scaler.fit_transform(DF)\n",
    "    DFRS = pd.DataFrame(DFarr, columns=scaler.get_feature_names_out(DF.columns.tolist()))\n",
    "    return DFRS"
   ]
  },
  {
   "cell_type": "code",
   "execution_count": null,
   "id": "45f2d5d4",
   "metadata": {},
   "outputs": [],
   "source": [
    "mms = MinMaxScaling(DFInputs)\n",
    "mms.head()"
   ]
  },
  {
   "cell_type": "code",
   "execution_count": null,
   "id": "7eafb9a9",
   "metadata": {},
   "outputs": [],
   "source": [
    "ss = StandardScaling(DFInputs)\n",
    "ss.head()"
   ]
  },
  {
   "cell_type": "code",
   "execution_count": null,
   "id": "b2b64c78",
   "metadata": {},
   "outputs": [],
   "source": [
    "rs = RobustScaling(DFInputs)\n",
    "rs.head()"
   ]
  },
  {
   "cell_type": "code",
   "execution_count": null,
   "id": "88ac5c32",
   "metadata": {},
   "outputs": [],
   "source": [
    "# use PCA to reduce the dimensionality of the data\n",
    "def PCA(DF : pd.DataFrame, n_components: int) -> pd.DataFrame:\n",
    "    from sklearn.decomposition import PCA\n",
    "    pca = PCA(n_components=n_components)\n",
    "    DFarr = pca.fit_transform(DF)\n",
    "    DFpca = pd.DataFrame(DFarr, columns=[f'PC{i+1}' for i in range(n_components)])\n",
    "    return DFpca\n",
    "# use TSNE to reduce the dimensionality of the data\n",
    "def TSNE(DF : pd.DataFrame, n_components: int) -> pd.DataFrame:\n",
    "    from sklearn.manifold import TSNE\n",
    "    tsne = TSNE(n_components=n_components)\n",
    "    DFarr = tsne.fit_transform(DF)\n",
    "    DFtsne = pd.DataFrame(DFarr, columns=[f'TSNE{i+1}' for i in range(n_components)])\n",
    "    return DFtsne\n",
    "# use UMAP to reduce the dimensionality of the data\n",
    "def UMAP(DF : pd.DataFrame, n_components: int) -> pd.DataFrame:\n",
    "    from umap import UMAP\n",
    "    umap = UMAP(n_components=n_components)\n",
    "    DFarr = umap.fit_transform(DF)\n",
    "    DFumap = pd.DataFrame(DFarr, columns=[f'UMAP{i+1}' for i in range(n_components)])\n",
    "    return DFumap\n",
    "# use LDA to reduce the dimensionality of the data\n",
    "def LDA(DF : pd.DataFrame, n_components: int) -> pd.DataFrame:\n",
    "    from sklearn.discriminant_analysis import LinearDiscriminantAnalysis\n",
    "    lda = LinearDiscriminantAnalysis(n_components=n_components)\n",
    "    DFarr = lda.fit_transform(DF, DFOutput)\n",
    "    DFlda = pd.DataFrame(DFarr, columns=[f'LDA{i+1}' for i in range(n_components)])\n",
    "    return DFlda\n",
    "# use ICA to reduce the dimensionality of the data\n",
    "def ICA(DF : pd.DataFrame, n_components: int) -> pd.DataFrame:\n",
    "    from sklearn.decomposition import FastICA\n",
    "    ica = FastICA(n_components=n_components)\n",
    "    DFarr = ica.fit_transform(DF)\n",
    "    DFica = pd.DataFrame(DFarr, columns=[f'ICA{i+1}' for i in range(n_components)])\n",
    "    return DFica\n",
    "# use NMF to reduce the dimensionality of the data\n",
    "def NMF(DF : pd.DataFrame, n_components: int) -> pd.DataFrame:\n",
    "    from sklearn.decomposition import NMF\n",
    "    nmf = NMF(n_components=n_components)\n",
    "    DFarr = nmf.fit_transform(DF)\n",
    "    DFnmf = pd.DataFrame(DFarr, columns=[f'NMF{i+1}' for i in range(n_components)])\n",
    "    return DFnmf\n",
    "# use SVD to reduce the dimensionality of the data\n",
    "def SVD(DF : pd.DataFrame, n_components: int) -> pd.DataFrame:\n",
    "    from sklearn.decomposition import TruncatedSVD\n",
    "    svd = TruncatedSVD(n_components=n_components)\n",
    "    DFarr = svd.fit_transform(DF)\n",
    "    DFsvd = pd.DataFrame(DFarr, columns=[f'SVD{i+1}' for i in range(n_components)])\n",
    "    return DFsvd\n",
    "# use FA to reduce the dimensionality of the data\n",
    "def FA(DF : pd.DataFrame, n_components: int) -> pd.DataFrame:\n",
    "    from sklearn.decomposition import FactorAnalysis\n",
    "    fa = FactorAnalysis(n_components=n_components)\n",
    "    DFarr = fa.fit_transform(DF)\n",
    "    DFfa = pd.DataFrame(DFarr, columns=[f'FA{i+1}' for i in range(n_components)])\n",
    "    return DFfa\n",
    "# use KMeans to reduce the dimensionality of the data\n",
    "def KMeans(DF : pd.DataFrame, n_components: int) -> pd.DataFrame:\n",
    "    from sklearn.cluster import KMeans\n",
    "    kmeans = KMeans(n_clusters=n_components)\n",
    "    DFarr = kmeans.fit_transform(DF)\n",
    "    DFkmeans = pd.DataFrame(DFarr, columns=[f'KMeans{i+1}' for i in range(n_components)])\n",
    "    return DFkmeans\n",
    "# use DBSCAN to reduce the dimensionality of the data\n",
    "def DBSCAN(DF : pd.DataFrame, n_components: int) -> pd.DataFrame:\n",
    "    from sklearn.cluster import DBSCAN\n",
    "    dbscan = DBSCAN(eps=0.5, min_samples=5)\n",
    "    DFarr = dbscan.fit_transform(DF)\n",
    "    DFdbscan = pd.DataFrame(DFarr, columns=[f'DBSCAN{i+1}' for i in range(n_components)])\n",
    "    return DFdbscan\n",
    "# use AgglomerativeClustering to reduce the dimensionality of the data\n",
    "def AgglomerativeClustering(DF : pd.DataFrame, n_components: int) -> pd.DataFrame:\n",
    "    from sklearn.cluster import AgglomerativeClustering\n",
    "    agglomerative = AgglomerativeClustering(n_clusters=n_components)\n",
    "    DFarr = agglomerative.fit_transform(DF)\n",
    "    DFagglomerative = pd.DataFrame(DFarr, columns=[f'Agglomerative{i+1}' for i in range(n_components)])\n",
    "    return DFagglomerative\n",
    "# use Birch to reduce the dimensionality of the data\n",
    "def Birch(DF : pd.DataFrame, n_components: int) -> pd.DataFrame:\n",
    "    from sklearn.cluster import Birch\n",
    "    birch = Birch(n_clusters=n_components)\n",
    "    DFarr = birch.fit_transform(DF)\n",
    "    DFbirch = pd.DataFrame(DFarr, columns=[f'Birch{i+1}' for i in range(n_components)])\n",
    "    return DFbirch\n",
    "# use MeanShift to reduce the dimensionality of the data\n",
    "def MeanShift(DF : pd.DataFrame, n_components: int) -> pd.DataFrame:\n",
    "    from sklearn.cluster import MeanShift\n",
    "    meanshift = MeanShift()\n",
    "    DFarr = meanshift.fit_transform(DF)\n",
    "    DFmeanshift = pd.DataFrame(DFarr, columns=[f'MeanShift{i+1}' for i in range(n_components)])\n",
    "    return DFmeanshift\n",
    "# use SpectralClustering to reduce the dimensionality of the data\n",
    "def SpectralClustering(DF : pd.DataFrame, n_components: int) -> pd.DataFrame:\n",
    "    from sklearn.cluster import SpectralClustering\n",
    "    spectral = SpectralClustering(n_clusters=n_components)\n",
    "    DFarr = spectral.fit_transform(DF)\n",
    "    DFspectral = pd.DataFrame(DFarr, columns=[f'Spectral{i+1}' for i in range(n_components)])\n",
    "    return DFspectral\n",
    "# use OPTICS to reduce the dimensionality of the data\n",
    "def OPTICS(DF : pd.DataFrame, n_components: int) -> pd.DataFrame:\n",
    "    from sklearn.cluster import OPTICS\n",
    "    optics = OPTICS()\n",
    "    DFarr = optics.fit_transform(DF)\n",
    "    DFoptics = pd.DataFrame(DFarr, columns=[f'OPTICS{i+1}' for i in range(n_components)])\n",
    "    return DFoptics\n",
    "# use AffinityPropagation to reduce the dimensionality of the data\n",
    "def AffinityPropagation(DF : pd.DataFrame, n_components: int) -> pd.DataFrame:\n",
    "    from sklearn.cluster import AffinityPropagation\n",
    "    affinity = AffinityPropagation()\n",
    "    DFarr = affinity.fit_transform(DF)\n",
    "    DFaAffinity = pd.DataFrame(DFarr, columns=[f'Affinity{i+1}' for i in range(n_components)])\n",
    "    return DFaAffinity\n",
    "# use GaussianMixture to reduce the dimensionality of the data\n",
    "def GaussianMixture(DF : pd.DataFrame, n_components: int) -> pd.DataFrame:\n",
    "    from sklearn.mixture import GaussianMixture\n",
    "    gmm = GaussianMixture(n_components=n_components)\n",
    "    DFarr = gmm.fit_transform(DF)\n",
    "    DFgmm = pd.DataFrame(DFarr, columns=[f'GaussianMixture{i+1}' for i in range(n_components)])\n",
    "    return DFgmm"
   ]
  },
  {
   "cell_type": "code",
   "execution_count": null,
   "id": "89e7ebc4",
   "metadata": {},
   "outputs": [],
   "source": [
    "DRFunctions = [PCA, TSNE, UMAP, LDA, ICA, NMF,\n",
    "               SVD, FA, KMeans, DBSCAN, AgglomerativeClustering,\n",
    "               Birch, MeanShift, SpectralClustering, OPTICS,\n",
    "               AffinityPropagation, GaussianMixture]\n",
    "DRFunctions.__len__()"
   ]
  },
  {
   "cell_type": "code",
   "execution_count": null,
   "id": "a1d187fe",
   "metadata": {},
   "outputs": [],
   "source": [
    "# HEREHEREHEREHEREHEREHEREHEREHEREHEREHEREHEREHEREHEREHEREHEREHERE"
   ]
  },
  {
   "cell_type": "code",
   "execution_count": null,
   "id": "97a57fff",
   "metadata": {},
   "outputs": [],
   "source": [
    "\"\"\"\n",
    "TODO: \n",
    "    - done: solve the impbalancing in the dataset\n",
    "    - scale the dataset using:\n",
    "        - MinMaxScaler \n",
    "        - StandardScaler \n",
    "        - RobustScaler\n",
    "    - categorical encoding using:\n",
    "        - LabelEncoder: for the OutPutLabel\n",
    "        - OneHotEncoder: for the OutPutLabel\n",
    "    - use dimensionality reduction techniques:\n",
    "        - the techniques listed in the DRFunctions list\n",
    "\n",
    "    - split the dataset into train and test sets\n",
    "    - layout the different calssifiers we may use\n",
    "        - NOTE: make a grid/random search for the best parameters for each classifier independently finish one by one\n",
    "        - SGDClassifier\n",
    "        - DecisionTreeClassifier\n",
    "        - RandomForestClassifier\n",
    "        - KNeighborsClassifier\n",
    "        - MLPClassifier\n",
    "        - SVC\n",
    "        - SVM\n",
    "        - LogisticRegression\n",
    "        - AdaBoostClassifier\n",
    "        - GradientBoostingClassifier\n",
    "        - XGBClassifier\n",
    "        - LGBMClassifier\n",
    "        - ExtraTreesClassifier\n",
    "        - BaggingClassifier\n",
    "        - VotingClassifier\n",
    "\"\"\""
   ]
  }
 ],
 "metadata": {
  "kernelspec": {
   "display_name": "Python 3",
   "language": "python",
   "name": "python3"
  },
  "language_info": {
   "codemirror_mode": {
    "name": "ipython",
    "version": 3
   },
   "file_extension": ".py",
   "mimetype": "text/x-python",
   "name": "python",
   "nbconvert_exporter": "python",
   "pygments_lexer": "ipython3",
   "version": "3.13.3"
  }
 },
 "nbformat": 4,
 "nbformat_minor": 5
}
